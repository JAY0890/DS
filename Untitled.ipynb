{
 "cells": [
  {
   "cell_type": "code",
   "execution_count": 2,
   "id": "1f091aa0-08cd-4900-810b-aa6c8fb2999e",
   "metadata": {},
   "outputs": [
    {
     "name": "stdin",
     "output_type": "stream",
     "text": [
      "enter radius 5\n"
     ]
    },
    {
     "name": "stdout",
     "output_type": "stream",
     "text": [
      "your area is 78.5\n"
     ]
    }
   ],
   "source": [
    "r=int(input(\"enter radius\"));\n",
    "a=3.14*(r*r);\n",
    "print(\"your area is\",a);"
   ]
  },
  {
   "cell_type": "code",
   "execution_count": 20,
   "id": "39bdbd39-2b57-4a44-a893-31b925292eda",
   "metadata": {},
   "outputs": [
    {
     "name": "stdin",
     "output_type": "stream",
     "text": [
      "ente the num -987\n"
     ]
    },
    {
     "name": "stdout",
     "output_type": "stream",
     "text": [
      "rev num is 789\n"
     ]
    }
   ],
   "source": [
    "n=int(input(\"ente the num\"))\n",
    "\n",
    "if n<0:\n",
    "    n=n*-1\n",
    "x=n;\n",
    "r=0;\n",
    "\n",
    "while n>0:\n",
    "    d=n%10\n",
    "    r=r*10+d\n",
    "    n=n//10\n",
    "\n",
    "print(\"rev num is\",r)\n",
    "\n",
    " \n"
   ]
  },
  {
   "cell_type": "code",
   "execution_count": 28,
   "id": "df1c9a22-6cf6-49b2-aadc-b427685ca39e",
   "metadata": {},
   "outputs": [
    {
     "name": "stdin",
     "output_type": "stream",
     "text": [
      "enter a num 987\n"
     ]
    },
    {
     "name": "stdout",
     "output_type": "stream",
     "text": [
      "resullt is 487578\n"
     ]
    }
   ],
   "source": [
    "n=int(input(\"enter a num\"));\n",
    "a=n+1;\n",
    "\n",
    "res=(n*a//2)\n",
    "print(\"resullt is\",res)\n",
    "\n"
   ]
  },
  {
   "cell_type": "code",
   "execution_count": 29,
   "id": "b9b7d26d-c398-496a-8e90-1a52bb7320f1",
   "metadata": {},
   "outputs": [
    {
     "ename": "SyntaxError",
     "evalue": "invalid syntax (3199486956.py, line 1)",
     "output_type": "error",
     "traceback": [
      "\u001b[0;36m  Cell \u001b[0;32mIn[29], line 1\u001b[0;36m\u001b[0m\n\u001b[0;31m    int n=int(input(\"Enter Number\"));\u001b[0m\n\u001b[0m        ^\u001b[0m\n\u001b[0;31mSyntaxError\u001b[0m\u001b[0;31m:\u001b[0m invalid syntax\n"
     ]
    }
   ],
   "source": [
    "int n=int(input(\"Enter Number\"));\n",
    "i=0;\n",
    "int first=0;\n",
    "int second=1;\n",
    "\n",
    "\n"
   ]
  },
  {
   "cell_type": "code",
   "execution_count": null,
   "id": "94cd4e75-f46e-4e1c-a9d7-29a39cf71bbc",
   "metadata": {},
   "outputs": [],
   "source": []
  }
 ],
 "metadata": {
  "kernelspec": {
   "display_name": "Python 3 (ipykernel)",
   "language": "python",
   "name": "python3"
  },
  "language_info": {
   "codemirror_mode": {
    "name": "ipython",
    "version": 3
   },
   "file_extension": ".py",
   "mimetype": "text/x-python",
   "name": "python",
   "nbconvert_exporter": "python",
   "pygments_lexer": "ipython3",
   "version": "3.10.12"
  }
 },
 "nbformat": 4,
 "nbformat_minor": 5
}
