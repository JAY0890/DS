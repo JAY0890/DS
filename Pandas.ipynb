{
 "cells": [
  {
   "cell_type": "code",
   "execution_count": 54,
   "id": "dd2194c2-102d-4338-b246-03dae488c81c",
   "metadata": {},
   "outputs": [
    {
     "data": {
      "text/plain": [
       "0    False\n",
       "1    False\n",
       "2    False\n",
       "3      NaN\n",
       "4     True\n",
       "dtype: object"
      ]
     },
     "execution_count": 54,
     "metadata": {},
     "output_type": "execute_result"
    }
   ],
   "source": [
    "import pandas as pd\n",
    "import numpy as np\n",
    "data=[\"tim\",\"kate\",\"SuSan\",np.nan,\"aLEX\"]\n",
    "name=pd.Series(data)\n",
    "#name.str.capitalize()\n",
    "#name.str.lower()\n",
    "#name.str.len()\n",
    "#name.str.startswith(\"a\")"
   ]
  },
  {
   "cell_type": "code",
   "execution_count": 73,
   "id": "bb2e6c18-68fc-4b1d-9077-ac7db4353704",
   "metadata": {},
   "outputs": [
    {
     "data": {
      "text/plain": [
       "0      Tim\n",
       "1     Kate\n",
       "2    Susan\n",
       "3      NaN\n",
       "4     Alex\n",
       "dtype: object"
      ]
     },
     "execution_count": 73,
     "metadata": {},
     "output_type": "execute_result"
    }
   ],
   "source": [
    "import pandas as pd\n",
    "import numpy as np\n",
    "data=[\"tim\",\"kate\",\"SuSan\",np.nan,\"aLEX\"]\n",
    "name=pd.Series(data)\n",
    "name.str.capitalize()\n"
   ]
  },
  {
   "cell_type": "code",
   "execution_count": 90,
   "id": "a35dc029-0b1d-4af3-9b92-8a8ec4c68e33",
   "metadata": {},
   "outputs": [
    {
     "data": {
      "text/plain": [
       "0      tim\n",
       "1     kate\n",
       "2    susan\n",
       "3      NaN\n",
       "4     alex\n",
       "dtype: object"
      ]
     },
     "execution_count": 90,
     "metadata": {},
     "output_type": "execute_result"
    }
   ],
   "source": [
    "import pandas as pd\n",
    "import numpy as np\n",
    "data=[\"tim\",\"kate\",\"SuSan\",np.nan,\"aLEX\"]\n",
    "name=pd.Series(data)\n",
    "name.str.lower()\n"
   ]
  },
  {
   "cell_type": "code",
   "execution_count": 91,
   "id": "112b7b90-39ff-42b4-a688-5845bf21ef3d",
   "metadata": {},
   "outputs": [
    {
     "data": {
      "text/plain": [
       "0    3.0\n",
       "1    4.0\n",
       "2    5.0\n",
       "3    NaN\n",
       "4    4.0\n",
       "dtype: float64"
      ]
     },
     "execution_count": 91,
     "metadata": {},
     "output_type": "execute_result"
    }
   ],
   "source": [
    "import pandas as pd\n",
    "import numpy as np\n",
    "data=[\"tim\",\"kate\",\"SuSan\",np.nan,\"aLEX\"]\n",
    "name=pd.Series(data)\n",
    "name.str.len()\n",
    "#name.str.startswith(\"a\")\n"
   ]
  },
  {
   "cell_type": "code",
   "execution_count": 92,
   "id": "9be28ec9-8688-4327-bd2a-e1b763c66fbd",
   "metadata": {},
   "outputs": [
    {
     "data": {
      "text/plain": [
       "0    False\n",
       "1    False\n",
       "2    False\n",
       "3      NaN\n",
       "4     True\n",
       "dtype: object"
      ]
     },
     "execution_count": 92,
     "metadata": {},
     "output_type": "execute_result"
    }
   ],
   "source": [
    "import pandas as pd\n",
    "import numpy as np\n",
    "data=[\"tim\",\"kate\",\"SuSan\",np.nan,\"aLEX\"]\n",
    "name=pd.Series(data)\n",
    "name.str.startswith(\"a\")"
   ]
  },
  {
   "cell_type": "code",
   "execution_count": 57,
   "id": "44725253-0760-40d7-bdd2-b4bda8ccac74",
   "metadata": {},
   "outputs": [
    {
     "data": {
      "text/html": [
       "<div>\n",
       "<style scoped>\n",
       "    .dataframe tbody tr th:only-of-type {\n",
       "        vertical-align: middle;\n",
       "    }\n",
       "\n",
       "    .dataframe tbody tr th {\n",
       "        vertical-align: top;\n",
       "    }\n",
       "\n",
       "    .dataframe thead th {\n",
       "        text-align: right;\n",
       "    }\n",
       "</style>\n",
       "<table border=\"1\" class=\"dataframe\">\n",
       "  <thead>\n",
       "    <tr style=\"text-align: right;\">\n",
       "      <th></th>\n",
       "      <th>COLUMN A</th>\n",
       "      <th>COLUMN B</th>\n",
       "    </tr>\n",
       "  </thead>\n",
       "  <tbody>\n",
       "    <tr>\n",
       "      <th>0</th>\n",
       "      <td>-1.306566</td>\n",
       "      <td>-0.063200</td>\n",
       "    </tr>\n",
       "    <tr>\n",
       "      <th>1</th>\n",
       "      <td>-0.038471</td>\n",
       "      <td>-0.258086</td>\n",
       "    </tr>\n",
       "    <tr>\n",
       "      <th>2</th>\n",
       "      <td>-0.721565</td>\n",
       "      <td>-0.666169</td>\n",
       "    </tr>\n",
       "  </tbody>\n",
       "</table>\n",
       "</div>"
      ],
      "text/plain": [
       "   COLUMN A  COLUMN B\n",
       "0 -1.306566 -0.063200\n",
       "1 -0.038471 -0.258086\n",
       "2 -0.721565 -0.666169"
      ]
     },
     "execution_count": 57,
     "metadata": {},
     "output_type": "execute_result"
    }
   ],
   "source": [
    "df=pd.DataFrame(\n",
    "    np.random.randn(3,2),\n",
    "    columns=[\"COLUMN A\",\"COLUMN B\"],\n",
    "    index=range(3))\n",
    "df\n"
   ]
  },
  {
   "cell_type": "code",
   "execution_count": 96,
   "id": "e3b64568-7246-4ddc-bf64-954f6d98a40a",
   "metadata": {},
   "outputs": [
    {
     "data": {
      "text/plain": [
       "0    a_b_c\n",
       "1    c_d_e\n",
       "2      NaN\n",
       "3    f_g_h\n",
       "dtype: object"
      ]
     },
     "execution_count": 96,
     "metadata": {},
     "output_type": "execute_result"
    }
   ],
   "source": [
    "df.columns\n",
    "#Index(['COLUMN A','COLUMN B'],dtype='object')\n",
    "df.columns.str.lower().str.replace(\"\",\"_\")\n",
    "#Index(['column_a', 'column_b'], dtype='object')\n",
    "s=pd.Series([\"a_b_c\",\"c_d_e\",np.nan,\"f_g_h\"])\n",
    "s"
   ]
  },
  {
   "cell_type": "code",
   "execution_count": 68,
   "id": "26136d62-bf3c-45b4-a508-f1c0ab195827",
   "metadata": {},
   "outputs": [
    {
     "data": {
      "text/plain": [
       "0      15\n",
       "1    -$20\n",
       "2    $250\n",
       "dtype: object"
      ]
     },
     "execution_count": 68,
     "metadata": {},
     "output_type": "execute_result"
    }
   ],
   "source": [
    "money=pd.Series([\"15\",\"-$20\",\"$250\"])\n",
    "money"
   ]
  },
  {
   "cell_type": "code",
   "execution_count": 74,
   "id": "0219c13a-f5d6-4f9a-b5bb-3f9f3d4d2558",
   "metadata": {},
   "outputs": [
    {
     "data": {
      "text/plain": [
       "0      15\n",
       "1    -$20\n",
       "2    $250\n",
       "dtype: object"
      ]
     },
     "execution_count": 74,
     "metadata": {},
     "output_type": "execute_result"
    }
   ],
   "source": [
    "money=pd.Series([\"15\",\"-$20\",\"$250\"])\n",
    "money\n",
    "#money.str.replace(\"-\\$\",\"\")"
   ]
  },
  {
   "cell_type": "code",
   "execution_count": 83,
   "id": "973269dd-8f2d-4aa9-a188-59f487da9ca8",
   "metadata": {},
   "outputs": [
    {
     "data": {
      "text/html": [
       "<div>\n",
       "<style scoped>\n",
       "    .dataframe tbody tr th:only-of-type {\n",
       "        vertical-align: middle;\n",
       "    }\n",
       "\n",
       "    .dataframe tbody tr th {\n",
       "        vertical-align: top;\n",
       "    }\n",
       "\n",
       "    .dataframe thead th {\n",
       "        text-align: right;\n",
       "    }\n",
       "</style>\n",
       "<table border=\"1\" class=\"dataframe\">\n",
       "  <thead>\n",
       "    <tr style=\"text-align: right;\">\n",
       "      <th></th>\n",
       "      <th>star_rating</th>\n",
       "      <th>title</th>\n",
       "      <th>content_rating</th>\n",
       "      <th>genre</th>\n",
       "      <th>duration</th>\n",
       "      <th>actors_list</th>\n",
       "    </tr>\n",
       "  </thead>\n",
       "  <tbody>\n",
       "    <tr>\n",
       "      <th>0</th>\n",
       "      <td>9.3</td>\n",
       "      <td>The Shawshank Redemption</td>\n",
       "      <td>R</td>\n",
       "      <td>Crime</td>\n",
       "      <td>142</td>\n",
       "      <td>[u'Tim Robbins', u'Morgan Freeman', u'Bob Gunt...</td>\n",
       "    </tr>\n",
       "    <tr>\n",
       "      <th>1</th>\n",
       "      <td>9.2</td>\n",
       "      <td>The Godfather</td>\n",
       "      <td>R</td>\n",
       "      <td>Crime</td>\n",
       "      <td>175</td>\n",
       "      <td>[u'Marlon Brando', u'Al Pacino', u'James Caan']</td>\n",
       "    </tr>\n",
       "    <tr>\n",
       "      <th>2</th>\n",
       "      <td>9.1</td>\n",
       "      <td>The Godfather: Part II</td>\n",
       "      <td>R</td>\n",
       "      <td>Crime</td>\n",
       "      <td>200</td>\n",
       "      <td>[u'Al Pacino', u'Robert De Niro', u'Robert Duv...</td>\n",
       "    </tr>\n",
       "    <tr>\n",
       "      <th>3</th>\n",
       "      <td>9.0</td>\n",
       "      <td>The Dark Knight</td>\n",
       "      <td>PG-13</td>\n",
       "      <td>Action</td>\n",
       "      <td>152</td>\n",
       "      <td>[u'Christian Bale', u'Heath Ledger', u'Aaron E...</td>\n",
       "    </tr>\n",
       "    <tr>\n",
       "      <th>4</th>\n",
       "      <td>8.9</td>\n",
       "      <td>Pulp Fiction</td>\n",
       "      <td>R</td>\n",
       "      <td>Crime</td>\n",
       "      <td>154</td>\n",
       "      <td>[u'John Travolta', u'Uma Thurman', u'Samuel L....</td>\n",
       "    </tr>\n",
       "  </tbody>\n",
       "</table>\n",
       "</div>"
      ],
      "text/plain": [
       "   star_rating                     title content_rating   genre  duration  \\\n",
       "0          9.3  The Shawshank Redemption              R   Crime       142   \n",
       "1          9.2             The Godfather              R   Crime       175   \n",
       "2          9.1    The Godfather: Part II              R   Crime       200   \n",
       "3          9.0           The Dark Knight          PG-13  Action       152   \n",
       "4          8.9              Pulp Fiction              R   Crime       154   \n",
       "\n",
       "                                         actors_list  \n",
       "0  [u'Tim Robbins', u'Morgan Freeman', u'Bob Gunt...  \n",
       "1    [u'Marlon Brando', u'Al Pacino', u'James Caan']  \n",
       "2  [u'Al Pacino', u'Robert De Niro', u'Robert Duv...  \n",
       "3  [u'Christian Bale', u'Heath Ledger', u'Aaron E...  \n",
       "4  [u'John Travolta', u'Uma Thurman', u'Samuel L....  "
      ]
     },
     "execution_count": 83,
     "metadata": {},
     "output_type": "execute_result"
    }
   ],
   "source": [
    "film=pd.read_csv(\"http://bit.ly/imdbratings\")\n",
    "film.head()"
   ]
  },
  {
   "cell_type": "code",
   "execution_count": 84,
   "id": "4522515f-cd20-443d-bc48-e832c4589938",
   "metadata": {},
   "outputs": [
    {
     "data": {
      "text/plain": [
       "0                             THE SHAWSHANK REDEMPTION\n",
       "1                                        THE GODFATHER\n",
       "2                               THE GODFATHER: PART II\n",
       "3                                      THE DARK KNIGHT\n",
       "4                                         PULP FICTION\n",
       "                            ...                       \n",
       "974                                            TOOTSIE\n",
       "975                        BACK TO THE FUTURE PART III\n",
       "976    MASTER AND COMMANDER: THE FAR SIDE OF THE WORLD\n",
       "977                                        POLTERGEIST\n",
       "978                                        WALL STREET\n",
       "Name: title, Length: 979, dtype: object"
      ]
     },
     "execution_count": 84,
     "metadata": {},
     "output_type": "execute_result"
    }
   ],
   "source": [
    "film=pd.read_csv(\"http://bit.ly/imdbratings\")\n",
    "\n",
    "film.title.str.upper()"
   ]
  },
  {
   "cell_type": "code",
   "execution_count": 85,
   "id": "0039ab75-d1d1-4da6-9e9e-03448df30534",
   "metadata": {},
   "outputs": [
    {
     "data": {
      "text/html": [
       "<div>\n",
       "<style scoped>\n",
       "    .dataframe tbody tr th:only-of-type {\n",
       "        vertical-align: middle;\n",
       "    }\n",
       "\n",
       "    .dataframe tbody tr th {\n",
       "        vertical-align: top;\n",
       "    }\n",
       "\n",
       "    .dataframe thead th {\n",
       "        text-align: right;\n",
       "    }\n",
       "</style>\n",
       "<table border=\"1\" class=\"dataframe\">\n",
       "  <thead>\n",
       "    <tr style=\"text-align: right;\">\n",
       "      <th></th>\n",
       "      <th>Star_rating</th>\n",
       "      <th>Title</th>\n",
       "      <th>Content_rating</th>\n",
       "      <th>Genre</th>\n",
       "      <th>Duration</th>\n",
       "      <th>Actors_list</th>\n",
       "    </tr>\n",
       "  </thead>\n",
       "  <tbody>\n",
       "    <tr>\n",
       "      <th>0</th>\n",
       "      <td>9.3</td>\n",
       "      <td>The Shawshank Redemption</td>\n",
       "      <td>R</td>\n",
       "      <td>Crime</td>\n",
       "      <td>142</td>\n",
       "      <td>[u'Tim Robbins', u'Morgan Freeman', u'Bob Gunt...</td>\n",
       "    </tr>\n",
       "    <tr>\n",
       "      <th>1</th>\n",
       "      <td>9.2</td>\n",
       "      <td>The Godfather</td>\n",
       "      <td>R</td>\n",
       "      <td>Crime</td>\n",
       "      <td>175</td>\n",
       "      <td>[u'Marlon Brando', u'Al Pacino', u'James Caan']</td>\n",
       "    </tr>\n",
       "    <tr>\n",
       "      <th>2</th>\n",
       "      <td>9.1</td>\n",
       "      <td>The Godfather: Part II</td>\n",
       "      <td>R</td>\n",
       "      <td>Crime</td>\n",
       "      <td>200</td>\n",
       "      <td>[u'Al Pacino', u'Robert De Niro', u'Robert Duv...</td>\n",
       "    </tr>\n",
       "    <tr>\n",
       "      <th>3</th>\n",
       "      <td>9.0</td>\n",
       "      <td>The Dark Knight</td>\n",
       "      <td>PG-13</td>\n",
       "      <td>Action</td>\n",
       "      <td>152</td>\n",
       "      <td>[u'Christian Bale', u'Heath Ledger', u'Aaron E...</td>\n",
       "    </tr>\n",
       "    <tr>\n",
       "      <th>4</th>\n",
       "      <td>8.9</td>\n",
       "      <td>Pulp Fiction</td>\n",
       "      <td>R</td>\n",
       "      <td>Crime</td>\n",
       "      <td>154</td>\n",
       "      <td>[u'John Travolta', u'Uma Thurman', u'Samuel L....</td>\n",
       "    </tr>\n",
       "  </tbody>\n",
       "</table>\n",
       "</div>"
      ],
      "text/plain": [
       "   Star_rating                     Title Content_rating   Genre  Duration  \\\n",
       "0          9.3  The Shawshank Redemption              R   Crime       142   \n",
       "1          9.2             The Godfather              R   Crime       175   \n",
       "2          9.1    The Godfather: Part II              R   Crime       200   \n",
       "3          9.0           The Dark Knight          PG-13  Action       152   \n",
       "4          8.9              Pulp Fiction              R   Crime       154   \n",
       "\n",
       "                                         Actors_list  \n",
       "0  [u'Tim Robbins', u'Morgan Freeman', u'Bob Gunt...  \n",
       "1    [u'Marlon Brando', u'Al Pacino', u'James Caan']  \n",
       "2  [u'Al Pacino', u'Robert De Niro', u'Robert Duv...  \n",
       "3  [u'Christian Bale', u'Heath Ledger', u'Aaron E...  \n",
       "4  [u'John Travolta', u'Uma Thurman', u'Samuel L....  "
      ]
     },
     "execution_count": 85,
     "metadata": {},
     "output_type": "execute_result"
    }
   ],
   "source": [
    "film=pd.read_csv(\"http://bit.ly/imdbratings\")\n",
    "\n",
    "film.columns=film.columns.str.capitalize()\n",
    "film.head()\n",
    "\n",
    "\n"
   ]
  },
  {
   "cell_type": "code",
   "execution_count": 86,
   "id": "935b7418-9579-4851-bee0-bcac1c84e78b",
   "metadata": {},
   "outputs": [
    {
     "data": {
      "text/html": [
       "<div>\n",
       "<style scoped>\n",
       "    .dataframe tbody tr th:only-of-type {\n",
       "        vertical-align: middle;\n",
       "    }\n",
       "\n",
       "    .dataframe tbody tr th {\n",
       "        vertical-align: top;\n",
       "    }\n",
       "\n",
       "    .dataframe thead th {\n",
       "        text-align: right;\n",
       "    }\n",
       "</style>\n",
       "<table border=\"1\" class=\"dataframe\">\n",
       "  <thead>\n",
       "    <tr style=\"text-align: right;\">\n",
       "      <th></th>\n",
       "      <th>star_rating</th>\n",
       "      <th>title</th>\n",
       "      <th>content_rating</th>\n",
       "      <th>genre</th>\n",
       "      <th>duration</th>\n",
       "      <th>actors_list</th>\n",
       "    </tr>\n",
       "  </thead>\n",
       "  <tbody>\n",
       "    <tr>\n",
       "      <th>9</th>\n",
       "      <td>8.9</td>\n",
       "      <td>Fight Club</td>\n",
       "      <td>R</td>\n",
       "      <td>Drama</td>\n",
       "      <td>139</td>\n",
       "      <td>[u'Brad Pitt', u'Edward Norton', u'Helena Bonh...</td>\n",
       "    </tr>\n",
       "    <tr>\n",
       "      <th>24</th>\n",
       "      <td>8.7</td>\n",
       "      <td>Se7en</td>\n",
       "      <td>R</td>\n",
       "      <td>Drama</td>\n",
       "      <td>127</td>\n",
       "      <td>[u'Morgan Freeman', u'Brad Pitt', u'Kevin Spac...</td>\n",
       "    </tr>\n",
       "    <tr>\n",
       "      <th>106</th>\n",
       "      <td>8.3</td>\n",
       "      <td>Snatch.</td>\n",
       "      <td>R</td>\n",
       "      <td>Comedy</td>\n",
       "      <td>102</td>\n",
       "      <td>[u'Jason Statham', u'Brad Pitt', u'Benicio Del...</td>\n",
       "    </tr>\n",
       "    <tr>\n",
       "      <th>114</th>\n",
       "      <td>8.3</td>\n",
       "      <td>Inglourious Basterds</td>\n",
       "      <td>R</td>\n",
       "      <td>Adventure</td>\n",
       "      <td>153</td>\n",
       "      <td>[u'Brad Pitt', u'Diane Kruger', u'Eli Roth']</td>\n",
       "    </tr>\n",
       "    <tr>\n",
       "      <th>264</th>\n",
       "      <td>8.1</td>\n",
       "      <td>Twelve Monkeys</td>\n",
       "      <td>R</td>\n",
       "      <td>Mystery</td>\n",
       "      <td>129</td>\n",
       "      <td>[u'Bruce Willis', u'Madeleine Stowe', u'Brad P...</td>\n",
       "    </tr>\n",
       "    <tr>\n",
       "      <th>508</th>\n",
       "      <td>7.8</td>\n",
       "      <td>The Curious Case of Benjamin Button</td>\n",
       "      <td>PG-13</td>\n",
       "      <td>Drama</td>\n",
       "      <td>166</td>\n",
       "      <td>[u'Brad Pitt', u'Cate Blanchett', u'Tilda Swin...</td>\n",
       "    </tr>\n",
       "    <tr>\n",
       "      <th>577</th>\n",
       "      <td>7.8</td>\n",
       "      <td>Ocean's Eleven</td>\n",
       "      <td>PG-13</td>\n",
       "      <td>Crime</td>\n",
       "      <td>116</td>\n",
       "      <td>[u'George Clooney', u'Brad Pitt', u'Julia Robe...</td>\n",
       "    </tr>\n",
       "    <tr>\n",
       "      <th>683</th>\n",
       "      <td>7.7</td>\n",
       "      <td>Fury</td>\n",
       "      <td>R</td>\n",
       "      <td>Action</td>\n",
       "      <td>134</td>\n",
       "      <td>[u'Brad Pitt', u'Shia LaBeouf', u'Logan Lerman']</td>\n",
       "    </tr>\n",
       "    <tr>\n",
       "      <th>776</th>\n",
       "      <td>7.6</td>\n",
       "      <td>Moneyball</td>\n",
       "      <td>PG-13</td>\n",
       "      <td>Biography</td>\n",
       "      <td>133</td>\n",
       "      <td>[u'Brad Pitt', u'Robin Wright', u'Jonah Hill']</td>\n",
       "    </tr>\n",
       "    <tr>\n",
       "      <th>779</th>\n",
       "      <td>7.6</td>\n",
       "      <td>Interview with the Vampire: The Vampire Chroni...</td>\n",
       "      <td>R</td>\n",
       "      <td>Horror</td>\n",
       "      <td>123</td>\n",
       "      <td>[u'Brad Pitt', u'Tom Cruise', u'Antonio Bander...</td>\n",
       "    </tr>\n",
       "    <tr>\n",
       "      <th>807</th>\n",
       "      <td>7.6</td>\n",
       "      <td>The Assassination of Jesse James by the Coward...</td>\n",
       "      <td>R</td>\n",
       "      <td>Biography</td>\n",
       "      <td>160</td>\n",
       "      <td>[u'Brad Pitt', u'Casey Affleck', u'Sam Shepard']</td>\n",
       "    </tr>\n",
       "    <tr>\n",
       "      <th>826</th>\n",
       "      <td>7.5</td>\n",
       "      <td>Sleepers</td>\n",
       "      <td>R</td>\n",
       "      <td>Crime</td>\n",
       "      <td>147</td>\n",
       "      <td>[u'Robert De Niro', u'Kevin Bacon', u'Brad Pitt']</td>\n",
       "    </tr>\n",
       "    <tr>\n",
       "      <th>877</th>\n",
       "      <td>7.5</td>\n",
       "      <td>Legends of the Fall</td>\n",
       "      <td>R</td>\n",
       "      <td>Drama</td>\n",
       "      <td>133</td>\n",
       "      <td>[u'Brad Pitt', u'Anthony Hopkins', u'Aidan Qui...</td>\n",
       "    </tr>\n",
       "    <tr>\n",
       "      <th>901</th>\n",
       "      <td>7.5</td>\n",
       "      <td>Babel</td>\n",
       "      <td>R</td>\n",
       "      <td>Drama</td>\n",
       "      <td>143</td>\n",
       "      <td>[u'Brad Pitt', u'Cate Blanchett', u'Gael Garc\\...</td>\n",
       "    </tr>\n",
       "  </tbody>\n",
       "</table>\n",
       "</div>"
      ],
      "text/plain": [
       "     star_rating                                              title  \\\n",
       "9            8.9                                         Fight Club   \n",
       "24           8.7                                              Se7en   \n",
       "106          8.3                                            Snatch.   \n",
       "114          8.3                               Inglourious Basterds   \n",
       "264          8.1                                     Twelve Monkeys   \n",
       "508          7.8                The Curious Case of Benjamin Button   \n",
       "577          7.8                                     Ocean's Eleven   \n",
       "683          7.7                                               Fury   \n",
       "776          7.6                                          Moneyball   \n",
       "779          7.6  Interview with the Vampire: The Vampire Chroni...   \n",
       "807          7.6  The Assassination of Jesse James by the Coward...   \n",
       "826          7.5                                           Sleepers   \n",
       "877          7.5                                Legends of the Fall   \n",
       "901          7.5                                              Babel   \n",
       "\n",
       "    content_rating      genre  duration  \\\n",
       "9                R      Drama       139   \n",
       "24               R      Drama       127   \n",
       "106              R     Comedy       102   \n",
       "114              R  Adventure       153   \n",
       "264              R    Mystery       129   \n",
       "508          PG-13      Drama       166   \n",
       "577          PG-13      Crime       116   \n",
       "683              R     Action       134   \n",
       "776          PG-13  Biography       133   \n",
       "779              R     Horror       123   \n",
       "807              R  Biography       160   \n",
       "826              R      Crime       147   \n",
       "877              R      Drama       133   \n",
       "901              R      Drama       143   \n",
       "\n",
       "                                           actors_list  \n",
       "9    [u'Brad Pitt', u'Edward Norton', u'Helena Bonh...  \n",
       "24   [u'Morgan Freeman', u'Brad Pitt', u'Kevin Spac...  \n",
       "106  [u'Jason Statham', u'Brad Pitt', u'Benicio Del...  \n",
       "114       [u'Brad Pitt', u'Diane Kruger', u'Eli Roth']  \n",
       "264  [u'Bruce Willis', u'Madeleine Stowe', u'Brad P...  \n",
       "508  [u'Brad Pitt', u'Cate Blanchett', u'Tilda Swin...  \n",
       "577  [u'George Clooney', u'Brad Pitt', u'Julia Robe...  \n",
       "683   [u'Brad Pitt', u'Shia LaBeouf', u'Logan Lerman']  \n",
       "776     [u'Brad Pitt', u'Robin Wright', u'Jonah Hill']  \n",
       "779  [u'Brad Pitt', u'Tom Cruise', u'Antonio Bander...  \n",
       "807   [u'Brad Pitt', u'Casey Affleck', u'Sam Shepard']  \n",
       "826  [u'Robert De Niro', u'Kevin Bacon', u'Brad Pitt']  \n",
       "877  [u'Brad Pitt', u'Anthony Hopkins', u'Aidan Qui...  \n",
       "901  [u'Brad Pitt', u'Cate Blanchett', u'Gael Garc\\...  "
      ]
     },
     "execution_count": 86,
     "metadata": {},
     "output_type": "execute_result"
    }
   ],
   "source": [
    "film=pd.read_csv(\"http://bit.ly/imdbratings\")\n",
    "\n",
    "film[film.actors_list.str.contains\n",
    "    (\"Brad Pitt\")]"
   ]
  },
  {
   "cell_type": "code",
   "execution_count": 89,
   "id": "808624c3-9d37-4904-bc78-1186dfe5b8db",
   "metadata": {
    "scrolled": true
   },
   "outputs": [
    {
     "name": "stderr",
     "output_type": "stream",
     "text": [
      "/tmp/ipykernel_8987/276137447.py:3: FutureWarning: The default value of regex will change from True to False in a future version. In addition, single character regular expressions will *not* be treated as literal strings when regex=True.\n",
      "  film.actors_list.str.replace(\"[\",\"\")\n"
     ]
    },
    {
     "data": {
      "text/plain": [
       "0      u'Tim Robbins', u'Morgan Freeman', u'Bob Gunton']\n",
       "1         u'Marlon Brando', u'Al Pacino', u'James Caan']\n",
       "2      u'Al Pacino', u'Robert De Niro', u'Robert Duva...\n",
       "3      u'Christian Bale', u'Heath Ledger', u'Aaron Ec...\n",
       "4      u'John Travolta', u'Uma Thurman', u'Samuel L. ...\n",
       "                             ...                        \n",
       "974    u'Dustin Hoffman', u'Jessica Lange', u'Teri Ga...\n",
       "975    u'Michael J. Fox', u'Christopher Lloyd', u'Mar...\n",
       "976    u'Russell Crowe', u'Paul Bettany', u'Billy Boyd']\n",
       "977    u'JoBeth Williams', u\"Heather O'Rourke\", u'Cra...\n",
       "978    u'Charlie Sheen', u'Michael Douglas', u'Tamara...\n",
       "Name: actors_list, Length: 979, dtype: object"
      ]
     },
     "execution_count": 89,
     "metadata": {},
     "output_type": "execute_result"
    }
   ],
   "source": [
    "film=pd.read_csv(\"http://bit.ly/imdbratings\")\n",
    "\n",
    "film.actors_list.str.replace(\"[\",\"\")"
   ]
  },
  {
   "cell_type": "code",
   "execution_count": null,
   "id": "1b0489e7-66d7-435e-b71f-e40767654ab7",
   "metadata": {},
   "outputs": [],
   "source": []
  }
 ],
 "metadata": {
  "kernelspec": {
   "display_name": "Python 3 (ipykernel)",
   "language": "python",
   "name": "python3"
  },
  "language_info": {
   "codemirror_mode": {
    "name": "ipython",
    "version": 3
   },
   "file_extension": ".py",
   "mimetype": "text/x-python",
   "name": "python",
   "nbconvert_exporter": "python",
   "pygments_lexer": "ipython3",
   "version": "3.10.12"
  }
 },
 "nbformat": 4,
 "nbformat_minor": 5
}
