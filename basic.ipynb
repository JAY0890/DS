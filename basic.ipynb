{
 "cells": [
  {
   "cell_type": "code",
   "execution_count": 2,
   "id": "1f091aa0-08cd-4900-810b-aa6c8fb2999e",
   "metadata": {},
   "outputs": [
    {
     "name": "stdin",
     "output_type": "stream",
     "text": [
      "enter radius 5\n"
     ]
    },
    {
     "name": "stdout",
     "output_type": "stream",
     "text": [
      "your area is 78.5\n"
     ]
    }
   ],
   "source": [
    "r=int(input(\"enter radius\"));\n",
    "a=3.14*(r*r);\n",
    "print(\"your area is\",a);"
   ]
  },
  {
   "cell_type": "code",
   "execution_count": 20,
   "id": "39bdbd39-2b57-4a44-a893-31b925292eda",
   "metadata": {},
   "outputs": [
    {
     "name": "stdin",
     "output_type": "stream",
     "text": [
      "ente the num -987\n"
     ]
    },
    {
     "name": "stdout",
     "output_type": "stream",
     "text": [
      "rev num is 789\n"
     ]
    }
   ],
   "source": [
    "n=int(input(\"ente the num\"))\n",
    "\n",
    "if n<0:\n",
    "    n=n*-1\n",
    "x=n;\n",
    "r=0;\n",
    "\n",
    "while n>0:\n",
    "    d=n%10\n",
    "    r=r*10+d\n",
    "    n=n//10\n",
    "\n",
    "print(\"rev num is\",r)\n",
    "\n",
    " \n"
   ]
  },
  {
   "cell_type": "code",
   "execution_count": 28,
   "id": "df1c9a22-6cf6-49b2-aadc-b427685ca39e",
   "metadata": {},
   "outputs": [
    {
     "name": "stdin",
     "output_type": "stream",
     "text": [
      "enter a num 987\n"
     ]
    },
    {
     "name": "stdout",
     "output_type": "stream",
     "text": [
      "resullt is 487578\n"
     ]
    }
   ],
   "source": [
    "n=int(input(\"enter a num\"));\n",
    "a=n+1;\n",
    "\n",
    "res=(n*a//2)\n",
    "print(\"resullt is\",res)\n",
    "\n"
   ]
  },
  {
   "cell_type": "code",
   "execution_count": 5,
   "id": "b9b7d26d-c398-496a-8e90-1a52bb7320f1",
   "metadata": {
    "scrolled": true
   },
   "outputs": [
    {
     "name": "stdin",
     "output_type": "stream",
     "text": [
      "enter a num 5\n"
     ]
    },
    {
     "name": "stdout",
     "output_type": "stream",
     "text": [
      "1\n",
      "12\n",
      "123\n",
      "1234\n",
      "12345\n"
     ]
    }
   ],
   "source": [
    "n=int(input(\"enter a num\"))\n",
    "for i in range(1,n+1):\n",
    "    for j in range(1,i+1):\n",
    "        print(j,end=\"\")\n",
    "    print()    \n",
    "        \n",
    "\n"
   ]
  },
  {
   "cell_type": "code",
   "execution_count": 11,
   "id": "94cd4e75-f46e-4e1c-a9d7-29a39cf71bbc",
   "metadata": {},
   "outputs": [
    {
     "name": "stdin",
     "output_type": "stream",
     "text": [
      "ENTER A NUMBER 5\n",
      "ENTER POWER 10\n"
     ]
    },
    {
     "name": "stdout",
     "output_type": "stream",
     "text": [
      "9765625\n"
     ]
    }
   ],
   "source": [
    "a=int(input(\"ENTER A NUMBER\"))\n",
    "b=int(input(\"ENTER POWER\"))\n",
    "c=a**b\n",
    "print(c)"
   ]
  },
  {
   "cell_type": "code",
   "execution_count": 12,
   "id": "b380f168-8868-4759-959c-ad0d211e6b0a",
   "metadata": {},
   "outputs": [
    {
     "name": "stdin",
     "output_type": "stream",
     "text": [
      "enter limit 5\n",
      "enter element 1\n",
      "enter element 2\n",
      "enter element 3\n",
      "enter element 4\n",
      "enter element 5\n"
     ]
    },
    {
     "name": "stdout",
     "output_type": "stream",
     "text": [
      "[1, 2, 3, 4, 5]\n"
     ]
    }
   ],
   "source": [
    "a=eval(input(\"enter limit\"))\n",
    "arr=[]\n",
    "for a in range(1,a+1):\n",
    "    x=eval(input(\"enter element\"))\n",
    "    arr.append(x)\n",
    "print(arr)    "
   ]
  },
  {
   "cell_type": "code",
   "execution_count": 17,
   "id": "fa91bef8-b196-4b91-96e9-adc55b7b2d1f",
   "metadata": {},
   "outputs": [
    {
     "name": "stdin",
     "output_type": "stream",
     "text": [
      "Enter a num 100\n"
     ]
    },
    {
     "name": "stdout",
     "output_type": "stream",
     "text": [
      "reverse num is  1\n"
     ]
    }
   ],
   "source": [
    "num=int(input(\"Enter a num\"))\n",
    "rev=0;\n",
    "while num>0:\n",
    "    temp=num%10;\n",
    "    rev=rev*10+temp;\n",
    "    num=num//10;\n",
    "\n",
    "print(\"reverse num is \",rev);"
   ]
  },
  {
   "cell_type": "code",
   "execution_count": 19,
   "id": "6f008a18-cfe0-440e-b9fc-c2bd26110fa8",
   "metadata": {},
   "outputs": [
    {
     "name": "stdin",
     "output_type": "stream",
     "text": [
      "Enter rows 5\n"
     ]
    },
    {
     "name": "stdout",
     "output_type": "stream",
     "text": [
      "    * \n",
      "   * * \n",
      "  * * * \n",
      " * * * * \n",
      "* * * * * \n"
     ]
    }
   ],
   "source": [
    "n=int(input(\"Enter rows\"))\n",
    "for i in range(0,n):\n",
    "    for j in range(0,n-i-1):\n",
    "        print(end=\" \")\n",
    "    for j in range(0,i+1):\n",
    "        print(\"*\",end=\" \")\n",
    "    print();    "
   ]
  },
  {
   "cell_type": "code",
   "execution_count": 26,
   "id": "dd173989-a194-462f-93cc-96805e4db02a",
   "metadata": {},
   "outputs": [
    {
     "name": "stdin",
     "output_type": "stream",
     "text": [
      "enter the element of the list 5\n",
      "do you want to enter more element y\n",
      "enter the element of the list 6\n",
      "do you want to enter more element y\n",
      "enter the element of the list 62\n",
      "do you want to enter more element n\n"
     ]
    },
    {
     "name": "stdout",
     "output_type": "stream",
     "text": [
      "list is  [5, 6, 62]\n",
      "factorial of given element is  [120, 720, 31469973260387937525653122354950764088012280797258232192163168247821107200000000000000]\n"
     ]
    }
   ],
   "source": [
    "a=[]\n",
    "fact=[]\n",
    "ch=\"y\"\n",
    "\n",
    "while ch==\"y\" or ch==\"Y\":\n",
    "    item=int(input(\"enter the element of the list\"))\n",
    "    a.append(item)\n",
    "    ch=input(\"do you want to enter more element\")\n",
    "print(\"list is \",a)\n",
    "\n",
    "for i in a:\n",
    "    f=1\n",
    "    for j in range (1,i+1):\n",
    "        f=f*j;\n",
    "        \n",
    "    fact.append(f)  \n",
    "print(\"factorial of given element is \",fact);"
   ]
  },
  {
   "cell_type": "code",
   "execution_count": null,
   "id": "47925b9b-2599-44af-90a0-8052d325ebc4",
   "metadata": {},
   "outputs": [],
   "source": []
  }
 ],
 "metadata": {
  "kernelspec": {
   "display_name": "Python 3 (ipykernel)",
   "language": "python",
   "name": "python3"
  },
  "language_info": {
   "codemirror_mode": {
    "name": "ipython",
    "version": 3
   },
   "file_extension": ".py",
   "mimetype": "text/x-python",
   "name": "python",
   "nbconvert_exporter": "python",
   "pygments_lexer": "ipython3",
   "version": "3.10.12"
  }
 },
 "nbformat": 4,
 "nbformat_minor": 5
}
