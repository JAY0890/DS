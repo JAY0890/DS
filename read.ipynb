{
 "cells": [
  {
   "cell_type": "code",
   "execution_count": 33,
   "id": "fdc80c7a-d8e1-4bab-adb8-80b9eadfcef1",
   "metadata": {},
   "outputs": [
    {
     "name": "stdout",
     "output_type": "stream",
     "text": [
      "this is a text file\n",
      "t1\n",
      "t3\n",
      "t4\n",
      "t5\n",
      "t7\n",
      "t9\n"
     ]
    }
   ],
   "source": [
    "with open('data.txt','r') as myfile:\n",
    "    content=myfile.read()\n",
    "    print(content)"
   ]
  },
  {
   "cell_type": "code",
   "execution_count": 1,
   "id": "5c4eec6c-09da-447a-9be5-80209ba5182c",
   "metadata": {},
   "outputs": [],
   "source": [
    "with open('data.txt','a') as f:\n",
    "      f.write('\\n ABC')\n",
    "              "
   ]
  },
  {
   "cell_type": "code",
   "execution_count": 4,
   "id": "b9c07bd8-56af-440a-969f-b60e5258ee89",
   "metadata": {},
   "outputs": [
    {
     "name": "stdout",
     "output_type": "stream",
     "text": [
      "['this is a text file', 't1', 't3', 't4', 't5', 't7', 't9', 't7', 't12', 'ABC']\n"
     ]
    }
   ],
   "source": [
    "list=[]\n",
    "with open('data.txt','r') as f:\n",
    "    for line in f:\n",
    "        list.append(line.strip())\n",
    "\n",
    "print(list)"
   ]
  },
  {
   "cell_type": "code",
   "execution_count": 4,
   "id": "472cc9bb-3e93-45c5-9ab3-913c9a0188fc",
   "metadata": {},
   "outputs": [
    {
     "name": "stdout",
     "output_type": "stream",
     "text": [
      "number of lines 10\n"
     ]
    }
   ],
   "source": [
    "with open('data.txt','r') as f:\n",
    "    for count, line in enumerate(f):\n",
    "        pass\n",
    "print(\"number of lines\",count+1);        "
   ]
  },
  {
   "cell_type": "code",
   "execution_count": null,
   "id": "d036442f-d70e-40c3-a85c-39267e42fd32",
   "metadata": {},
   "outputs": [],
   "source": []
  }
 ],
 "metadata": {
  "kernelspec": {
   "display_name": "Python 3 (ipykernel)",
   "language": "python",
   "name": "python3"
  },
  "language_info": {
   "codemirror_mode": {
    "name": "ipython",
    "version": 3
   },
   "file_extension": ".py",
   "mimetype": "text/x-python",
   "name": "python",
   "nbconvert_exporter": "python",
   "pygments_lexer": "ipython3",
   "version": "3.10.12"
  }
 },
 "nbformat": 4,
 "nbformat_minor": 5
}
